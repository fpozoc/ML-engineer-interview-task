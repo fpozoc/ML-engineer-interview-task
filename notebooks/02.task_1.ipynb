{
 "cells": [
  {
   "cell_type": "markdown",
   "id": "99817b9b-4ca2-473d-9818-56ca7dfa11db",
   "metadata": {},
   "source": [
    "# Interview Task for Machine Learning Engineer / Data Scientist Role\n",
    "## Instructions\n",
    "\n",
    "**Data**\n",
    "\n",
    "The data set contains rental property listings from a real estate platform with related information, such as living area size, rent, the location (street and house number, if available, ZIP code and state), type of energy etc. It also has two variables containing longer free text descriptions: description with a text describing the offer and facilities describing all available facilities, newest renovation etc. \n",
    "\n",
    "**Task**\n",
    "\n",
    "- 1. Please train a machine learning model to predict the total rent using only the structural data (without “description” and “facilities” fields).  \n",
    "- 2. Please train a machine learning model to predict the total rent using both the structural data AND text data (“description” and “facilities” fields). \n",
    "\n",
    "We expect the performance reporting to conform to the expected ML best practices, i.e. please split the data set to necessary groups (train, validation, test). \n",
    "\n",
    "One can ignore some of the fields during prediction. Please provide some discussion on the feature processing, model selection, model performance and comparison of two models and any possible improvements. Please provide the trained ML model files as well.\n",
    "\n",
    "We expect a git repo (link shared privately with us) that contains your solution in Python 3 language.\n",
    "\n",
    "Additional points will be considered for DB schema design and access (postgreSQL preferred), model versioning, containerization, CI/CD and testing.\n",
    "\n",
    "**Author information**:\n",
    "\n",
    "Fernando Pozo\n",
    "\n",
    "- [GitHub (github.com/fpozoc)](https://github.com/fpozoc)\n",
    "- [Homepage (fpozoc.com)](https://fpozoc.com)"
   ]
  },
  {
   "cell_type": "markdown",
   "id": "92814be4-1c90-4dbe-b9e4-28f5bf276b6d",
   "metadata": {},
   "source": [
    "# Model selection, model training and evaluation"
   ]
  },
  {
   "cell_type": "code",
   "execution_count": 9,
   "id": "d4af8231-298f-4c3d-a860-0b9ef82cc5a0",
   "metadata": {
    "tags": []
   },
   "outputs": [
    {
     "name": "stdout",
     "output_type": "stream",
     "text": [
      "The autoreload extension is already loaded. To reload it, use:\n",
      "  %reload_ext autoreload\n",
      "/local/fpozoc/Projects/Nomoko-ML-engineer-interview-task/notebooks\n"
     ]
    }
   ],
   "source": [
    "# python modules\n",
    "import yaml\n",
    "import sys\n",
    "import warnings\n",
    "\n",
    "# 3rd partymodules\n",
    "import pandas as pd\n",
    "import numpy as np\n",
    "sys.path.append('../')\n",
    "from src.model.model_selection import *\n",
    "\n",
    "from xgboost import XGBRegressor\n",
    "\n",
    "\n",
    "warnings.filterwarnings(\"ignore\")\n",
    "pd.set_option(\"display.max_rows\", 100)\n",
    "pd.set_option(\"display.max_columns\", 100)\n",
    "\n",
    "%load_ext autoreload\n",
    "%autoreload 2\n",
    "\n",
    "!pwd"
   ]
  },
  {
   "cell_type": "code",
   "execution_count": 2,
   "id": "b8ebc14f-ea80-4438-be22-a0ca0ef23cd8",
   "metadata": {},
   "outputs": [],
   "source": [
    "SEED=123"
   ]
  },
  {
   "cell_type": "code",
   "execution_count": 4,
   "id": "08bbb614-777b-4554-a75a-3344b5366f2c",
   "metadata": {},
   "outputs": [],
   "source": [
    "df = pd.read_csv('../data/processed/training_set.v1.tsv.gz', sep='\\t', compression='gzip')"
   ]
  },
  {
   "cell_type": "code",
   "execution_count": 5,
   "id": "f6fe74b3-6482-4f58-a26b-eca2e12775b8",
   "metadata": {},
   "outputs": [],
   "source": [
    "pretrained_model = pickle.load(open('../models/model.v.1.0.0.pkl', 'rb'))\n",
    "model = Classifier(\n",
    "    model=pretrained_model,\n",
    "    df=df[df.columns[1:]],\n",
    "    features_col=df.columns[2:],\n",
    "    target_col='totalRent',\n",
    "    model_type='regression',\n",
    "    )"
   ]
  },
  {
   "cell_type": "code",
   "execution_count": 6,
   "id": "007b1a34",
   "metadata": {},
   "outputs": [
    {
     "data": {
      "text/html": [
       "<div>\n",
       "<style scoped>\n",
       "    .dataframe tbody tr th:only-of-type {\n",
       "        vertical-align: middle;\n",
       "    }\n",
       "\n",
       "    .dataframe tbody tr th {\n",
       "        vertical-align: top;\n",
       "    }\n",
       "\n",
       "    .dataframe thead th {\n",
       "        text-align: right;\n",
       "    }\n",
       "</style>\n",
       "<table border=\"1\" class=\"dataframe\">\n",
       "  <thead>\n",
       "    <tr style=\"text-align: right;\">\n",
       "      <th></th>\n",
       "      <th>metric</th>\n",
       "    </tr>\n",
       "  </thead>\n",
       "  <tbody>\n",
       "    <tr>\n",
       "      <th>R2</th>\n",
       "      <td>0.735464</td>\n",
       "    </tr>\n",
       "    <tr>\n",
       "      <th>Mean Absolute Error</th>\n",
       "      <td>110.378400</td>\n",
       "    </tr>\n",
       "    <tr>\n",
       "      <th>Mean Squared Error</th>\n",
       "      <td>23515.884843</td>\n",
       "    </tr>\n",
       "  </tbody>\n",
       "</table>\n",
       "</div>"
      ],
      "text/plain": [
       "                           metric\n",
       "R2                       0.735464\n",
       "Mean Absolute Error    110.378400\n",
       "Mean Squared Error   23515.884843"
      ]
     },
     "execution_count": 6,
     "metadata": {},
     "output_type": "execute_result"
    }
   ],
   "source": [
    "model.evaluate"
   ]
  },
  {
   "cell_type": "code",
   "execution_count": 7,
   "id": "faa886d1",
   "metadata": {},
   "outputs": [
    {
     "data": {
      "text/html": [
       "<div>\n",
       "<style scoped>\n",
       "    .dataframe tbody tr th:only-of-type {\n",
       "        vertical-align: middle;\n",
       "    }\n",
       "\n",
       "    .dataframe tbody tr th {\n",
       "        vertical-align: top;\n",
       "    }\n",
       "\n",
       "    .dataframe thead th {\n",
       "        text-align: right;\n",
       "    }\n",
       "</style>\n",
       "<table border=\"1\" class=\"dataframe\">\n",
       "  <thead>\n",
       "    <tr style=\"text-align: right;\">\n",
       "      <th></th>\n",
       "      <th>mean</th>\n",
       "      <th>std</th>\n",
       "    </tr>\n",
       "    <tr>\n",
       "      <th>metric</th>\n",
       "      <th></th>\n",
       "      <th></th>\n",
       "    </tr>\n",
       "  </thead>\n",
       "  <tbody>\n",
       "    <tr>\n",
       "      <th>fit_time</th>\n",
       "      <td>13.4969</td>\n",
       "      <td>0.8247</td>\n",
       "    </tr>\n",
       "    <tr>\n",
       "      <th>score_time</th>\n",
       "      <td>0.0355</td>\n",
       "      <td>0.0023</td>\n",
       "    </tr>\n",
       "    <tr>\n",
       "      <th>test_R2</th>\n",
       "      <td>0.7345</td>\n",
       "      <td>0.0036</td>\n",
       "    </tr>\n",
       "    <tr>\n",
       "      <th>train_R2</th>\n",
       "      <td>0.7707</td>\n",
       "      <td>0.0011</td>\n",
       "    </tr>\n",
       "    <tr>\n",
       "      <th>test_Mean Absolute Error</th>\n",
       "      <td>-110.4552</td>\n",
       "      <td>0.5394</td>\n",
       "    </tr>\n",
       "    <tr>\n",
       "      <th>train_Mean Absolute Error</th>\n",
       "      <td>-103.0630</td>\n",
       "      <td>0.1540</td>\n",
       "    </tr>\n",
       "    <tr>\n",
       "      <th>test_Mean Squared Error</th>\n",
       "      <td>-23555.3292</td>\n",
       "      <td>198.1859</td>\n",
       "    </tr>\n",
       "    <tr>\n",
       "      <th>train_Mean Squared Error</th>\n",
       "      <td>-20342.1338</td>\n",
       "      <td>66.6575</td>\n",
       "    </tr>\n",
       "  </tbody>\n",
       "</table>\n",
       "</div>"
      ],
      "text/plain": [
       "                                 mean       std\n",
       "metric                                         \n",
       "fit_time                      13.4969    0.8247\n",
       "score_time                     0.0355    0.0023\n",
       "test_R2                        0.7345    0.0036\n",
       "train_R2                       0.7707    0.0011\n",
       "test_Mean Absolute Error    -110.4552    0.5394\n",
       "train_Mean Absolute Error   -103.0630    0.1540\n",
       "test_Mean Squared Error   -23555.3292  198.1859\n",
       "train_Mean Squared Error  -20342.1338   66.6575"
      ]
     },
     "execution_count": 7,
     "metadata": {},
     "output_type": "execute_result"
    }
   ],
   "source": [
    "model.cross_validate"
   ]
  }
 ],
 "metadata": {
  "kernelspec": {
   "display_name": "Python 3.8.10 64-bit",
   "language": "python",
   "name": "python3"
  },
  "language_info": {
   "codemirror_mode": {
    "name": "ipython",
    "version": 3
   },
   "file_extension": ".py",
   "mimetype": "text/x-python",
   "name": "python",
   "nbconvert_exporter": "python",
   "pygments_lexer": "ipython3",
   "version": "3.8.10"
  },
  "vscode": {
   "interpreter": {
    "hash": "31f2aee4e71d21fbe5cf8b01ff0e069b9275f58929596ceb00d14d90e3e16cd6"
   }
  }
 },
 "nbformat": 4,
 "nbformat_minor": 5
}
